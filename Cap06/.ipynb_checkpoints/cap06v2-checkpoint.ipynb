{
 "cells": [
  {
   "cell_type": "markdown",
   "metadata": {},
   "source": [
    "# sqlite"
   ]
  },
  {
   "cell_type": "code",
   "execution_count": 1,
   "metadata": {},
   "outputs": [],
   "source": [
    "import os\n",
    "os.remove('dsa.db') if os.path.exists('dsa.db') else None"
   ]
  },
  {
   "cell_type": "code",
   "execution_count": 2,
   "metadata": {},
   "outputs": [],
   "source": [
    "import sqlite3\n",
    "\n",
    "#cria a conexao com o banco de dados\n",
    "conn = sqlite3.connect('dsa.db')"
   ]
  },
  {
   "cell_type": "code",
   "execution_count": 3,
   "metadata": {},
   "outputs": [],
   "source": [
    "# cria o cursor\n",
    "cur = conn.cursor()"
   ]
  },
  {
   "cell_type": "code",
   "execution_count": 32,
   "metadata": {},
   "outputs": [],
   "source": [
    "import datetime\n",
    "\n",
    "def criar_tabela():\n",
    "    cur.execute(\"CREATE TABLE IF NOT EXISTS produto\"\\\n",
    "                \"(id integer primary key autoincrement not null, \"\\\n",
    "                \"date text,\"\\\n",
    "                \"prod_name text,\"\\\n",
    "                \"valor real)\"\n",
    "               );\n",
    "\n",
    "def inserir_dados():\n",
    "    cur.execute(\"INSERT INTO produto values (1,'2020-02-19 18:00:00', 'teclado', 90)\");\n",
    "    conn.commit()\n",
    "    cur.close()\n",
    "    conn.close()\n",
    "\n",
    "def inserir_dados_variaveis(nome, valor):\n",
    "    data = datetime.datetime.now()\n",
    "    cur.execute(\"INSERT INTO produto (date, prod_name, valor) values (?, ?, ?)\", (data, nome,valor));\n",
    "    conn.commit()\n",
    "\n",
    "def retornar_coluna(n):\n",
    "    cur.execute(\"SELECT * FROM produto\")\n",
    "    for c in cur.fetchall():\n",
    "        print(c[n])\n",
    "\n",
    "def update_valor(v, nome):\n",
    "    cur.execute(\"UPDATE produto SET valor = ? where prod_name = ?\", (v, nome))\n",
    "    conn.commit()\n",
    "    \n",
    "def excluir_teclado():\n",
    "    cur.execute(\"DELETE FROM produto where prod_name = 'teclado'\")\n",
    "    conn.commit()"
   ]
  },
  {
   "cell_type": "code",
   "execution_count": 5,
   "metadata": {},
   "outputs": [],
   "source": [
    "criar_tabela()\n",
    "inserir_dados()"
   ]
  },
  {
   "cell_type": "code",
   "execution_count": 21,
   "metadata": {},
   "outputs": [],
   "source": [
    "conn = sqlite3.connect('dsa.db')\n",
    "cur = conn.cursor()"
   ]
  },
  {
   "cell_type": "code",
   "execution_count": 7,
   "metadata": {},
   "outputs": [
    {
     "data": {
      "text/plain": [
       "<sqlite3.Cursor at 0x5706ca0>"
      ]
     },
     "execution_count": 7,
     "metadata": {},
     "output_type": "execute_result"
    }
   ],
   "source": [
    "cur.execute(\"SELECT * FROM produto\")"
   ]
  },
  {
   "cell_type": "code",
   "execution_count": 8,
   "metadata": {},
   "outputs": [
    {
     "name": "stdout",
     "output_type": "stream",
     "text": [
      "[(1, '2020-02-19 18:00:00', 'teclado', 90.0)]\n"
     ]
    }
   ],
   "source": [
    "d = cur.fetchall()\n",
    "print(d)"
   ]
  },
  {
   "cell_type": "code",
   "execution_count": 17,
   "metadata": {},
   "outputs": [],
   "source": [
    "inserir_dados_variaveis('mouse', 50)"
   ]
  },
  {
   "cell_type": "code",
   "execution_count": 18,
   "metadata": {},
   "outputs": [
    {
     "name": "stdout",
     "output_type": "stream",
     "text": [
      "[(1, '2020-02-19 18:00:00', 'teclado', 90.0), (2, '2020-02-19 19:24:44.311681', 'mouse', 50.0)]\n"
     ]
    }
   ],
   "source": [
    "cur.execute(\"SELECT * FROM produto\")\n",
    "print(cur.fetchall())"
   ]
  },
  {
   "cell_type": "code",
   "execution_count": 22,
   "metadata": {},
   "outputs": [
    {
     "name": "stdout",
     "output_type": "stream",
     "text": [
      "teclado\n",
      "mouse\n"
     ]
    }
   ],
   "source": [
    "retornar_coluna(2)"
   ]
  },
  {
   "cell_type": "code",
   "execution_count": 24,
   "metadata": {},
   "outputs": [],
   "source": [
    "update_valor(100, 'teclado')"
   ]
  },
  {
   "cell_type": "code",
   "execution_count": 25,
   "metadata": {},
   "outputs": [
    {
     "name": "stdout",
     "output_type": "stream",
     "text": [
      "[(1, '2020-02-19 18:00:00', 'teclado', 100.0), (2, '2020-02-19 19:24:44.311681', 'mouse', 50.0)]\n"
     ]
    }
   ],
   "source": [
    "cur.execute(\"SELECT * FROM produto\")\n",
    "print(cur.fetchall())"
   ]
  },
  {
   "cell_type": "code",
   "execution_count": 35,
   "metadata": {},
   "outputs": [],
   "source": [
    "excluir_teclado()"
   ]
  },
  {
   "cell_type": "code",
   "execution_count": 36,
   "metadata": {},
   "outputs": [
    {
     "name": "stdout",
     "output_type": "stream",
     "text": [
      "[(2, '2020-02-19 19:24:44.311681', 'mouse', 50.0)]\n"
     ]
    }
   ],
   "source": [
    "cur.execute(\"SELECT * FROM produto\")\n",
    "print(cur.fetchall())"
   ]
  },
  {
   "cell_type": "code",
   "execution_count": 37,
   "metadata": {},
   "outputs": [
    {
     "name": "stdout",
     "output_type": "stream",
     "text": [
      "Help on class range in module builtins:\n",
      "\n",
      "class range(object)\n",
      " |  range(stop) -> range object\n",
      " |  range(start, stop[, step]) -> range object\n",
      " |  \n",
      " |  Return an object that produces a sequence of integers from start (inclusive)\n",
      " |  to stop (exclusive) by step.  range(i, j) produces i, i+1, i+2, ..., j-1.\n",
      " |  start defaults to 0, and stop is omitted!  range(4) produces 0, 1, 2, 3.\n",
      " |  These are exactly the valid indices for a list of 4 elements.\n",
      " |  When step is given, it specifies the increment (or decrement).\n",
      " |  \n",
      " |  Methods defined here:\n",
      " |  \n",
      " |  __bool__(self, /)\n",
      " |      self != 0\n",
      " |  \n",
      " |  __contains__(self, key, /)\n",
      " |      Return key in self.\n",
      " |  \n",
      " |  __eq__(self, value, /)\n",
      " |      Return self==value.\n",
      " |  \n",
      " |  __ge__(self, value, /)\n",
      " |      Return self>=value.\n",
      " |  \n",
      " |  __getattribute__(self, name, /)\n",
      " |      Return getattr(self, name).\n",
      " |  \n",
      " |  __getitem__(self, key, /)\n",
      " |      Return self[key].\n",
      " |  \n",
      " |  __gt__(self, value, /)\n",
      " |      Return self>value.\n",
      " |  \n",
      " |  __hash__(self, /)\n",
      " |      Return hash(self).\n",
      " |  \n",
      " |  __iter__(self, /)\n",
      " |      Implement iter(self).\n",
      " |  \n",
      " |  __le__(self, value, /)\n",
      " |      Return self<=value.\n",
      " |  \n",
      " |  __len__(self, /)\n",
      " |      Return len(self).\n",
      " |  \n",
      " |  __lt__(self, value, /)\n",
      " |      Return self<value.\n",
      " |  \n",
      " |  __ne__(self, value, /)\n",
      " |      Return self!=value.\n",
      " |  \n",
      " |  __reduce__(...)\n",
      " |      Helper for pickle.\n",
      " |  \n",
      " |  __repr__(self, /)\n",
      " |      Return repr(self).\n",
      " |  \n",
      " |  __reversed__(...)\n",
      " |      Return a reverse iterator.\n",
      " |  \n",
      " |  count(...)\n",
      " |      rangeobject.count(value) -> integer -- return number of occurrences of value\n",
      " |  \n",
      " |  index(...)\n",
      " |      rangeobject.index(value) -> integer -- return index of value.\n",
      " |      Raise ValueError if the value is not present.\n",
      " |  \n",
      " |  ----------------------------------------------------------------------\n",
      " |  Static methods defined here:\n",
      " |  \n",
      " |  __new__(*args, **kwargs) from builtins.type\n",
      " |      Create and return a new object.  See help(type) for accurate signature.\n",
      " |  \n",
      " |  ----------------------------------------------------------------------\n",
      " |  Data descriptors defined here:\n",
      " |  \n",
      " |  start\n",
      " |  \n",
      " |  step\n",
      " |  \n",
      " |  stop\n",
      "\n"
     ]
    }
   ],
   "source": [
    "help(range)"
   ]
  },
  {
   "cell_type": "code",
   "execution_count": 44,
   "metadata": {},
   "outputs": [],
   "source": [
    "x = list(range(100, 1000, 100))\n",
    "\n",
    "for y in x:\n",
    "    inserir_dados_variaveis('antivirus', y)"
   ]
  },
  {
   "cell_type": "code",
   "execution_count": 46,
   "metadata": {},
   "outputs": [
    {
     "name": "stdout",
     "output_type": "stream",
     "text": [
      "(2, '2020-02-19 19:24:44.311681', 'mouse', 50.0)\n",
      "(3, '2020-02-19 20:10:21.241508', 'antivirus', 100.0)\n",
      "(4, '2020-02-19 20:10:21.254498', 'antivirus', 200.0)\n",
      "(5, '2020-02-19 20:10:21.273549', 'antivirus', 300.0)\n",
      "(6, '2020-02-19 20:10:21.283495', 'antivirus', 400.0)\n",
      "(7, '2020-02-19 20:10:21.293395', 'antivirus', 500.0)\n",
      "(8, '2020-02-19 20:10:21.303563', 'antivirus', 600.0)\n",
      "(9, '2020-02-19 20:10:21.317863', 'antivirus', 700.0)\n",
      "(10, '2020-02-19 20:10:21.327311', 'antivirus', 800.0)\n",
      "(11, '2020-02-19 20:10:21.337348', 'antivirus', 900.0)\n"
     ]
    }
   ],
   "source": [
    "cur.execute(\"SELECT * FROM produto\")\n",
    "x = cur.fetchall()\n",
    "\n",
    "for y in x:\n",
    "    print(y)"
   ]
  },
  {
   "cell_type": "code",
   "execution_count": 47,
   "metadata": {},
   "outputs": [],
   "source": [
    "cur.close()\n",
    "conn.close()"
   ]
  },
  {
   "cell_type": "markdown",
   "metadata": {},
   "source": []
  }
 ],
 "metadata": {
  "kernelspec": {
   "display_name": "Python 3",
   "language": "python",
   "name": "python3"
  },
  "language_info": {
   "codemirror_mode": {
    "name": "ipython",
    "version": 3
   },
   "file_extension": ".py",
   "mimetype": "text/x-python",
   "name": "python",
   "nbconvert_exporter": "python",
   "pygments_lexer": "ipython3",
   "version": "3.7.4"
  }
 },
 "nbformat": 4,
 "nbformat_minor": 2
}
