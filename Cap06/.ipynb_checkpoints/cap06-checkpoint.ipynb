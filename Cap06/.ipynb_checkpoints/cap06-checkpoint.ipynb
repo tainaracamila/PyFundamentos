{
 "cells": [
  {
   "cell_type": "markdown",
   "metadata": {},
   "source": [
    "# banco de dados - sqlite"
   ]
  },
  {
   "cell_type": "code",
   "execution_count": 1,
   "metadata": {},
   "outputs": [],
   "source": [
    "import os\n",
    "\n",
    "#bpp\n",
    "os.remove(\"escola.db\") if os.path.exists(\"escola.db\") else None #exclui o bd criado anteriormente"
   ]
  },
  {
   "cell_type": "code",
   "execution_count": 2,
   "metadata": {},
   "outputs": [],
   "source": [
    "import sqlite3"
   ]
  },
  {
   "cell_type": "code",
   "execution_count": 4,
   "metadata": {},
   "outputs": [],
   "source": [
    "#criar conexao com o banco de dados\n",
    "#se o banco nao existir, ele é criado\n",
    "conexao = sqlite3.connect(\"escola.db\")"
   ]
  },
  {
   "cell_type": "code",
   "execution_count": 5,
   "metadata": {},
   "outputs": [
    {
     "data": {
      "text/plain": [
       "sqlite3.Connection"
      ]
     },
     "execution_count": 5,
     "metadata": {},
     "output_type": "execute_result"
    }
   ],
   "source": [
    "type(conexao)"
   ]
  },
  {
   "cell_type": "code",
   "execution_count": 6,
   "metadata": {},
   "outputs": [],
   "source": [
    "# cursor permite percorrer todos os registros do banco de dados\n",
    "cur = conexao.cursor()"
   ]
  },
  {
   "cell_type": "code",
   "execution_count": 7,
   "metadata": {},
   "outputs": [
    {
     "data": {
      "text/plain": [
       "sqlite3.Cursor"
      ]
     },
     "execution_count": 7,
     "metadata": {},
     "output_type": "execute_result"
    }
   ],
   "source": [
    "type(cur)"
   ]
  },
  {
   "cell_type": "code",
   "execution_count": 10,
   "metadata": {},
   "outputs": [],
   "source": [
    "# codigo da tabela a ser criada\n",
    "sql_create = 'create table escola'\\\n",
    "'(id integer primary key, '\\\n",
    "'titulo varchar(100),'\\\n",
    "'categoria varchar(140))'"
   ]
  },
  {
   "cell_type": "code",
   "execution_count": 11,
   "metadata": {},
   "outputs": [
    {
     "data": {
      "text/plain": [
       "<sqlite3.Cursor at 0x811a3a0>"
      ]
     },
     "execution_count": 11,
     "metadata": {},
     "output_type": "execute_result"
    }
   ],
   "source": [
    "#execucao da criacao da tabela 'escola'\n",
    "cur.execute(sql_create)"
   ]
  },
  {
   "cell_type": "code",
   "execution_count": 26,
   "metadata": {},
   "outputs": [],
   "source": [
    "# funcao de inserir registros via cursor\n",
    "sql_insert = 'insert into escola values (?, ?, ?)'"
   ]
  },
  {
   "cell_type": "code",
   "execution_count": 27,
   "metadata": {},
   "outputs": [],
   "source": [
    "dados = [(1000, \"Ciência de Dados\", \"Data Science\"),\n",
    "         (1001, \"Big Data Fundamentos\", \"Data Science\"),\n",
    "         (1002, \"Python Fundamentos\", \"Data Science\")]"
   ]
  },
  {
   "cell_type": "code",
   "execution_count": 28,
   "metadata": {},
   "outputs": [],
   "source": [
    "for d in dados:\n",
    "    cur.execute(sql_insert, d)"
   ]
  },
  {
   "cell_type": "code",
   "execution_count": 29,
   "metadata": {},
   "outputs": [],
   "source": [
    "# abriu a conexao, criou tabela, adicionou registros e por fim devemos commitar\n",
    "# para que os registros sejam gravados\n",
    "conexao.commit()"
   ]
  },
  {
   "cell_type": "code",
   "execution_count": 30,
   "metadata": {},
   "outputs": [],
   "source": [
    "# funcao de busca de registros \n",
    "sql_select = 'select * from escola'"
   ]
  },
  {
   "cell_type": "code",
   "execution_count": 31,
   "metadata": {},
   "outputs": [],
   "source": [
    "cur.execute(sql_select)\n",
    "retorno = cur.fetchall()"
   ]
  },
  {
   "cell_type": "code",
   "execution_count": 33,
   "metadata": {},
   "outputs": [
    {
     "name": "stdout",
     "output_type": "stream",
     "text": [
      "Id do curso: 1000\n",
      "Título: Ciência de Dados\n",
      "Categoria: Data Science\n",
      "\n",
      "\n",
      "Id do curso: 1001\n",
      "Título: Big Data Fundamentos\n",
      "Categoria: Data Science\n",
      "\n",
      "\n",
      "Id do curso: 1002\n",
      "Título: Python Fundamentos\n",
      "Categoria: Data Science\n",
      "\n",
      "\n"
     ]
    }
   ],
   "source": [
    "for r in retorno:\n",
    "    print(\"Id do curso: %s\\nTítulo: %s\\nCategoria: %s\\n\\n\" %r) "
   ]
  },
  {
   "cell_type": "code",
   "execution_count": 34,
   "metadata": {},
   "outputs": [],
   "source": [
    "dados = [(1003, \"Ciência de Dados 2.0\", \"Data Science\"),\n",
    "         (1004, \"Big Data Fundamentos 2.0\", \"Data Science\"),\n",
    "         (1005, \"Python Fundamentos 2.0\", \"Data Science\")]\n",
    "\n",
    "for d in dados:\n",
    "    cur.execute(sql_insert, d)\n",
    "\n",
    "conexao.commit()"
   ]
  },
  {
   "cell_type": "code",
   "execution_count": 35,
   "metadata": {},
   "outputs": [
    {
     "name": "stdout",
     "output_type": "stream",
     "text": [
      "Id do curso: 1000\n",
      "Título: Ciência de Dados\n",
      "Categoria: Data Science\n",
      "\n",
      "\n",
      "Id do curso: 1001\n",
      "Título: Big Data Fundamentos\n",
      "Categoria: Data Science\n",
      "\n",
      "\n",
      "Id do curso: 1002\n",
      "Título: Python Fundamentos\n",
      "Categoria: Data Science\n",
      "\n",
      "\n",
      "Id do curso: 1003\n",
      "Título: Ciência de Dados 2.0\n",
      "Categoria: Data Science\n",
      "\n",
      "\n",
      "Id do curso: 1004\n",
      "Título: Big Data Fundamentos 2.0\n",
      "Categoria: Data Science\n",
      "\n",
      "\n",
      "Id do curso: 1005\n",
      "Título: Python Fundamentos 2.0\n",
      "Categoria: Data Science\n",
      "\n",
      "\n"
     ]
    }
   ],
   "source": [
    "cur.execute('select * from escola')\n",
    "\n",
    "for r in cur.fetchall():\n",
    "    print(\"Id do curso: %s\\nTítulo: %s\\nCategoria: %s\\n\\n\" %r) "
   ]
  },
  {
   "cell_type": "code",
   "execution_count": 36,
   "metadata": {},
   "outputs": [],
   "source": [
    "#fechar a conexao bpp\n",
    "conexao.close()"
   ]
  },
  {
   "cell_type": "code",
   "execution_count": null,
   "metadata": {},
   "outputs": [],
   "source": []
  }
 ],
 "metadata": {
  "kernelspec": {
   "display_name": "Python 3",
   "language": "python",
   "name": "python3"
  },
  "language_info": {
   "codemirror_mode": {
    "name": "ipython",
    "version": 3
   },
   "file_extension": ".py",
   "mimetype": "text/x-python",
   "name": "python",
   "nbconvert_exporter": "python",
   "pygments_lexer": "ipython3",
   "version": "3.7.4"
  }
 },
 "nbformat": 4,
 "nbformat_minor": 2
}
