{
 "cells": [
  {
   "cell_type": "markdown",
   "metadata": {},
   "source": [
    "# mongodb\n",
    "\n",
    "- É necessário que o mongodb seja inicializado: cmd -> mongod\n",
    "- É necessário que ele fique rodando durante toda a execução do programa que o utiliza\n",
    "- Devemos instalar um pacote para usar ele: pip install pymongo"
   ]
  },
  {
   "cell_type": "code",
   "execution_count": 1,
   "metadata": {},
   "outputs": [
    {
     "name": "stdout",
     "output_type": "stream",
     "text": [
      "Requirement already satisfied: pymongo in c:\\users\\taina\\anaconda3\\lib\\site-packages (3.10.1)\n"
     ]
    }
   ],
   "source": [
    "#a exclamação executa a instalação no sistema operacional\n",
    "!pip install pymongo "
   ]
  },
  {
   "cell_type": "code",
   "execution_count": 2,
   "metadata": {},
   "outputs": [],
   "source": [
    "#Conecta a aplicação ao MongoDb\n",
    "from pymongo import MongoClient"
   ]
  },
  {
   "cell_type": "code",
   "execution_count": 3,
   "metadata": {},
   "outputs": [],
   "source": [
    "#Estabelecendo conexão\n",
    "# local de execucao e porta\n",
    "conn = MongoClient('localhost', 27017)"
   ]
  },
  {
   "cell_type": "code",
   "execution_count": 4,
   "metadata": {},
   "outputs": [
    {
     "data": {
      "text/plain": [
       "pymongo.mongo_client.MongoClient"
      ]
     },
     "execution_count": 4,
     "metadata": {},
     "output_type": "execute_result"
    }
   ],
   "source": [
    "type(conn)"
   ]
  },
  {
   "cell_type": "code",
   "execution_count": 5,
   "metadata": {},
   "outputs": [],
   "source": [
    "#através da conexão podemos criar um banco de dados, apenas passando seu nome\n",
    "db = conn.cadastrodb"
   ]
  },
  {
   "cell_type": "code",
   "execution_count": 6,
   "metadata": {},
   "outputs": [
    {
     "data": {
      "text/plain": [
       "pymongo.database.Database"
      ]
     },
     "execution_count": 6,
     "metadata": {},
     "output_type": "execute_result"
    }
   ],
   "source": [
    "type(db)"
   ]
  },
  {
   "cell_type": "code",
   "execution_count": 7,
   "metadata": {},
   "outputs": [],
   "source": [
    "#criar uma coleção no mongodb - a coleção é relativamente parecido com uma tabela em \n",
    "#banco de dados relacionais\n",
    "\n",
    "colecao = db.cadastrodb"
   ]
  },
  {
   "cell_type": "code",
   "execution_count": 8,
   "metadata": {},
   "outputs": [
    {
     "data": {
      "text/plain": [
       "pymongo.collection.Collection"
      ]
     },
     "execution_count": 8,
     "metadata": {},
     "output_type": "execute_result"
    }
   ],
   "source": [
    "type(colecao)"
   ]
  },
  {
   "cell_type": "markdown",
   "metadata": {},
   "source": [
    "Obs: Apesar das interações acima, nada foi realmente realizado no mongodb,\n",
    "o banco de dados e as colecoes serão criadas quando o primeiro documento for inserido.\n",
    "Obs2: Dados no MongoDb são representados e armazenados no formato JSON"
   ]
  },
  {
   "cell_type": "code",
   "execution_count": 9,
   "metadata": {},
   "outputs": [],
   "source": [
    "import datetime"
   ]
  },
  {
   "cell_type": "code",
   "execution_count": 10,
   "metadata": {},
   "outputs": [],
   "source": [
    "dic = {'codigo': 'ID-99778866',\n",
    "      'prod_name': 'Geladeira',\n",
    "      'marcas': ['brastemp', 'consul', 'eletrolux'],\n",
    "      'data_cadastro': datetime.datetime.now()}"
   ]
  },
  {
   "cell_type": "code",
   "execution_count": 11,
   "metadata": {},
   "outputs": [],
   "source": [
    "#nome da colecao = posts \n",
    "colecao = db.posts"
   ]
  },
  {
   "cell_type": "code",
   "execution_count": 12,
   "metadata": {},
   "outputs": [],
   "source": [
    "#adiciona um documento em uma colecao ( que no caso é a colecao posts, definida anteriormente)\n",
    "post = colecao.insert_one(dic)"
   ]
  },
  {
   "cell_type": "code",
   "execution_count": 13,
   "metadata": {},
   "outputs": [
    {
     "data": {
      "text/plain": [
       "ObjectId('5e542d6c90a1867ff9b4185f')"
      ]
     },
     "execution_count": 13,
     "metadata": {},
     "output_type": "execute_result"
    }
   ],
   "source": [
    "post.inserted_id # é atribuido um id unico ao objeto"
   ]
  },
  {
   "cell_type": "markdown",
   "metadata": {},
   "source": [
    "Quando um documento é adicionado, é criado automaticamente um 'id' para esse documento, \n",
    "uma chave especial. Caso o documento já exista, ele é somente atualizado."
   ]
  },
  {
   "cell_type": "code",
   "execution_count": 14,
   "metadata": {},
   "outputs": [
    {
     "data": {
      "text/plain": [
       "<pymongo.results.InsertOneResult at 0x1d16c7a99c8>"
      ]
     },
     "execution_count": 14,
     "metadata": {},
     "output_type": "execute_result"
    }
   ],
   "source": [
    "post"
   ]
  },
  {
   "cell_type": "code",
   "execution_count": 15,
   "metadata": {},
   "outputs": [],
   "source": [
    "dic2 =  {'codigo': 'ID-11223344',\n",
    "      'prod_name': 'Televisao',\n",
    "      'marcas': ['lg', 'samsung', 'sony'],\n",
    "      'data_cadastro': datetime.datetime.utcnow()}"
   ]
  },
  {
   "cell_type": "code",
   "execution_count": 16,
   "metadata": {},
   "outputs": [],
   "source": [
    "colecao = db.posts"
   ]
  },
  {
   "cell_type": "code",
   "execution_count": 17,
   "metadata": {},
   "outputs": [],
   "source": [
    "post2 = colecao.insert_one(dic2)"
   ]
  },
  {
   "cell_type": "code",
   "execution_count": 18,
   "metadata": {},
   "outputs": [
    {
     "data": {
      "text/plain": [
       "ObjectId('5e542d7d90a1867ff9b41860')"
      ]
     },
     "execution_count": 18,
     "metadata": {},
     "output_type": "execute_result"
    }
   ],
   "source": [
    "post2.inserted_id"
   ]
  },
  {
   "cell_type": "code",
   "execution_count": 19,
   "metadata": {},
   "outputs": [
    {
     "data": {
      "text/plain": [
       "<pymongo.results.InsertOneResult at 0x1d16cbe9c08>"
      ]
     },
     "execution_count": 19,
     "metadata": {},
     "output_type": "execute_result"
    }
   ],
   "source": [
    "post2"
   ]
  },
  {
   "cell_type": "code",
   "execution_count": 20,
   "metadata": {},
   "outputs": [],
   "source": [
    "#find = cursor\n",
    "#retorna todos os documentos\n",
    "\n",
    "x = colecao.find()"
   ]
  },
  {
   "cell_type": "code",
   "execution_count": 21,
   "metadata": {},
   "outputs": [
    {
     "name": "stdout",
     "output_type": "stream",
     "text": [
      "{'_id': ObjectId('5e533770dff7e6178b704a5f'), 'codigo': 'ID-99778866', 'prod_name': 'Geladeira', 'marcas': ['brastemp', 'consul', 'eletrolux'], 'data_cadastro': datetime.datetime(2020, 2, 23, 23, 38, 4, 194000)}\n",
      "{'_id': ObjectId('5e534406dff7e6178b704a61'), 'codigo': 'ID-99778866', 'prod_name': 'Geladeira', 'marcas': ['brastemp', 'consul', 'eletrolux'], 'data_cadastro': datetime.datetime(2020, 2, 24, 0, 33, 21, 800000)}\n",
      "{'_id': ObjectId('5e541e276fdf2595fbfef0cf'), 'codigo': 'ID-99778866', 'prod_name': 'Geladeira', 'marcas': ['brastemp', 'consul', 'eletrolux'], 'data_cadastro': datetime.datetime(2020, 2, 24, 16, 4, 4, 575000)}\n",
      "{'_id': ObjectId('5e542d6c90a1867ff9b4185f'), 'codigo': 'ID-99778866', 'prod_name': 'Geladeira', 'marcas': ['brastemp', 'consul', 'eletrolux'], 'data_cadastro': datetime.datetime(2020, 2, 24, 17, 9, 14, 617000)}\n",
      "{'_id': ObjectId('5e542d7d90a1867ff9b41860'), 'codigo': 'ID-11223344', 'prod_name': 'Televisao', 'marcas': ['lg', 'samsung', 'sony'], 'data_cadastro': datetime.datetime(2020, 2, 24, 20, 9, 27, 235000)}\n"
     ]
    }
   ],
   "source": [
    "for y in x:\n",
    "    print(y)"
   ]
  },
  {
   "cell_type": "code",
   "execution_count": 22,
   "metadata": {},
   "outputs": [
    {
     "name": "stdout",
     "output_type": "stream",
     "text": [
      "{'_id': ObjectId('5e542d7d90a1867ff9b41860'), 'codigo': 'ID-11223344', 'prod_name': 'Televisao', 'marcas': ['lg', 'samsung', 'sony'], 'data_cadastro': datetime.datetime(2020, 2, 24, 20, 9, 27, 235000)}\n"
     ]
    }
   ],
   "source": [
    "# caso queira fazer uma busca mais especifica, colocar dentro do paramentro do find\n",
    "\n",
    "x = colecao.find({'prod_name':'Televisao'})\n",
    "\n",
    "for y in x:\n",
    "    print(y)"
   ]
  },
  {
   "cell_type": "code",
   "execution_count": 23,
   "metadata": {},
   "outputs": [
    {
     "data": {
      "text/plain": [
       "'cadastrodb'"
      ]
     },
     "execution_count": 23,
     "metadata": {},
     "output_type": "execute_result"
    }
   ],
   "source": [
    "db.name"
   ]
  },
  {
   "cell_type": "code",
   "execution_count": 24,
   "metadata": {},
   "outputs": [
    {
     "name": "stderr",
     "output_type": "stream",
     "text": [
      "C:\\Users\\taina\\Anaconda3\\lib\\site-packages\\ipykernel_launcher.py:1: DeprecationWarning: collection_names is deprecated. Use list_collection_names instead.\n",
      "  \"\"\"Entry point for launching an IPython kernel.\n"
     ]
    },
    {
     "data": {
      "text/plain": [
       "['posts']"
      ]
     },
     "execution_count": 24,
     "metadata": {},
     "output_type": "execute_result"
    }
   ],
   "source": [
    "db.collection_names()"
   ]
  },
  {
   "cell_type": "code",
   "execution_count": 25,
   "metadata": {},
   "outputs": [
    {
     "data": {
      "text/plain": [
       "['posts']"
      ]
     },
     "execution_count": 25,
     "metadata": {},
     "output_type": "execute_result"
    }
   ],
   "source": [
    "db.list_collection_names()"
   ]
  },
  {
   "cell_type": "code",
   "execution_count": 26,
   "metadata": {},
   "outputs": [],
   "source": [
    "colecao = db.teste"
   ]
  },
  {
   "cell_type": "code",
   "execution_count": 27,
   "metadata": {},
   "outputs": [],
   "source": [
    "dic3 = {'nome':'tainara',\n",
    "       'idade': 25,\n",
    "       'sexo': 'feminino'}"
   ]
  },
  {
   "cell_type": "code",
   "execution_count": 28,
   "metadata": {},
   "outputs": [],
   "source": [
    "teste = colecao.insert_one(dic3)"
   ]
  },
  {
   "cell_type": "code",
   "execution_count": 29,
   "metadata": {},
   "outputs": [
    {
     "data": {
      "text/plain": [
       "ObjectId('5e542dc890a1867ff9b41861')"
      ]
     },
     "execution_count": 29,
     "metadata": {},
     "output_type": "execute_result"
    }
   ],
   "source": [
    "teste.inserted_id"
   ]
  },
  {
   "cell_type": "code",
   "execution_count": 30,
   "metadata": {},
   "outputs": [
    {
     "data": {
      "text/plain": [
       "['teste', 'posts']"
      ]
     },
     "execution_count": 30,
     "metadata": {},
     "output_type": "execute_result"
    }
   ],
   "source": [
    "db.list_collection_names()"
   ]
  },
  {
   "cell_type": "markdown",
   "metadata": {},
   "source": [
    "Receitinha de bolo:\n",
    "\n",
    "- Starta a conexão usando MongoClient('localhost', 27017)\n",
    "- Crie um banco de dados caso nao exista db = conn.cadastrodb (cadastrodb é o nome do banco de dados)\n",
    "- Instanciar uma coleção dentro do banco de dados colecao = db.cadastrodb\n",
    "- Cria o nome da coleção colecao = db.posts (o nome da coleção é posts)\n",
    "- Adiciona o documento a coleção post = colecao.insert_one(dic) (o dic é o dicionario/documento que se deseja inserir)\n",
    "- Visualizar o id do documento inserido post.inserted_id\n"
   ]
  },
  {
   "cell_type": "markdown",
   "metadata": {},
   "source": [
    "Retornar os dados das coleções:\n",
    "\n",
    "- x = colecao.find() (sem nenhuma condição)\n",
    "- x = colecao.find({'prod_name':'Televisao'}) (com condição)"
   ]
  },
  {
   "cell_type": "code",
   "execution_count": 31,
   "metadata": {},
   "outputs": [],
   "source": [
    "import pymongo"
   ]
  },
  {
   "cell_type": "code",
   "execution_count": 32,
   "metadata": {},
   "outputs": [],
   "source": [
    "cliente_conn = pymongo.MongoClient() #automaticamente os paramentros do MongoClient é localhost e 27017"
   ]
  },
  {
   "cell_type": "code",
   "execution_count": 33,
   "metadata": {},
   "outputs": [
    {
     "name": "stderr",
     "output_type": "stream",
     "text": [
      "C:\\Users\\taina\\Anaconda3\\lib\\site-packages\\ipykernel_launcher.py:1: DeprecationWarning: database_names is deprecated. Use list_database_names instead.\n",
      "  \"\"\"Entry point for launching an IPython kernel.\n"
     ]
    },
    {
     "data": {
      "text/plain": [
       "['admin', 'cadastrodb', 'config', 'local']"
      ]
     },
     "execution_count": 33,
     "metadata": {},
     "output_type": "execute_result"
    }
   ],
   "source": [
    "cliente_conn.database_names()"
   ]
  },
  {
   "cell_type": "code",
   "execution_count": 34,
   "metadata": {},
   "outputs": [
    {
     "data": {
      "text/plain": [
       "['admin', 'cadastrodb', 'config', 'local']"
      ]
     },
     "execution_count": 34,
     "metadata": {},
     "output_type": "execute_result"
    }
   ],
   "source": [
    "cliente_conn.list_database_names()"
   ]
  },
  {
   "cell_type": "code",
   "execution_count": 36,
   "metadata": {},
   "outputs": [],
   "source": [
    "db = cliente_conn.cadastrodb #define objeto db que recebe cadastrodb"
   ]
  },
  {
   "cell_type": "code",
   "execution_count": 37,
   "metadata": {},
   "outputs": [
    {
     "data": {
      "text/plain": [
       "['teste', 'posts']"
      ]
     },
     "execution_count": 37,
     "metadata": {},
     "output_type": "execute_result"
    }
   ],
   "source": [
    "db.list_collection_names() #listar as coleções em cadastrodb"
   ]
  },
  {
   "cell_type": "code",
   "execution_count": 38,
   "metadata": {},
   "outputs": [
    {
     "data": {
      "text/plain": [
       "Collection(Database(MongoClient(host=['localhost:27017'], document_class=dict, tz_aware=False, connect=True), 'cadastrodb'), 'colecaoaniver')"
      ]
     },
     "execution_count": 38,
     "metadata": {},
     "output_type": "execute_result"
    }
   ],
   "source": [
    "#uma nova maneira de criar uma coleçao\n",
    "db.create_collection('colecaoaniver')"
   ]
  },
  {
   "cell_type": "code",
   "execution_count": 39,
   "metadata": {},
   "outputs": [
    {
     "data": {
      "text/plain": [
       "['colecaoaniver', 'teste', 'posts']"
      ]
     },
     "execution_count": 39,
     "metadata": {},
     "output_type": "execute_result"
    }
   ],
   "source": [
    "db.list_collection_names()"
   ]
  },
  {
   "cell_type": "code",
   "execution_count": 40,
   "metadata": {},
   "outputs": [],
   "source": [
    "novodic = {'titulo': 'Aniversario Tainara',\n",
    "          'descricao': '26 anos',\n",
    "          'by': 'Tainara',\n",
    "          'url': 'https://twitter.com.br/l4dynara',\n",
    "          'tags': ['tag1', 'tag2', 'tag3'],\n",
    "          'likes':1000}"
   ]
  },
  {
   "cell_type": "code",
   "execution_count": 41,
   "metadata": {},
   "outputs": [
    {
     "data": {
      "text/plain": [
       "<pymongo.results.InsertOneResult at 0x1d16fcc5888>"
      ]
     },
     "execution_count": 41,
     "metadata": {},
     "output_type": "execute_result"
    }
   ],
   "source": [
    "db.colecaoaniver.insert_one(novodic)"
   ]
  },
  {
   "cell_type": "code",
   "execution_count": 42,
   "metadata": {},
   "outputs": [
    {
     "data": {
      "text/plain": [
       "{'_id': ObjectId('5e54389790a1867ff9b41863'),\n",
       " 'titulo': 'Aniversario Tainara',\n",
       " 'descricao': '26 anos',\n",
       " 'by': 'Tainara',\n",
       " 'url': 'https://twitter.com.br/l4dynara',\n",
       " 'tags': ['tag1', 'tag2', 'tag3'],\n",
       " 'likes': 1000}"
      ]
     },
     "execution_count": 42,
     "metadata": {},
     "output_type": "execute_result"
    }
   ],
   "source": [
    "db.colecaoaniver.find_one()"
   ]
  },
  {
   "cell_type": "code",
   "execution_count": 43,
   "metadata": {},
   "outputs": [],
   "source": [
    "#conectar a uma coleção\n",
    "\n",
    "col = db['colecaoaniver']"
   ]
  },
  {
   "cell_type": "code",
   "execution_count": 44,
   "metadata": {},
   "outputs": [
    {
     "data": {
      "text/plain": [
       "pymongo.collection.Collection"
      ]
     },
     "execution_count": 44,
     "metadata": {},
     "output_type": "execute_result"
    }
   ],
   "source": [
    "type(col)"
   ]
  },
  {
   "cell_type": "code",
   "execution_count": 46,
   "metadata": {},
   "outputs": [
    {
     "name": "stderr",
     "output_type": "stream",
     "text": [
      "C:\\Users\\taina\\Anaconda3\\lib\\site-packages\\ipykernel_launcher.py:1: DeprecationWarning: count is deprecated. Use estimated_document_count or count_documents instead. Please note that $where must be replaced by $expr, $near must be replaced by $geoWithin with $center, and $nearSphere must be replaced by $geoWithin with $centerSphere\n",
      "  \"\"\"Entry point for launching an IPython kernel.\n"
     ]
    },
    {
     "data": {
      "text/plain": [
       "1"
      ]
     },
     "execution_count": 46,
     "metadata": {},
     "output_type": "execute_result"
    }
   ],
   "source": [
    "col.count() #imprime o numero de documentos"
   ]
  },
  {
   "cell_type": "code",
   "execution_count": 47,
   "metadata": {},
   "outputs": [
    {
     "data": {
      "text/plain": [
       "1"
      ]
     },
     "execution_count": 47,
     "metadata": {},
     "output_type": "execute_result"
    }
   ],
   "source": [
    "col.estimated_document_count()"
   ]
  },
  {
   "cell_type": "code",
   "execution_count": null,
   "metadata": {},
   "outputs": [],
   "source": []
  }
 ],
 "metadata": {
  "kernelspec": {
   "display_name": "Python 3",
   "language": "python",
   "name": "python3"
  },
  "language_info": {
   "codemirror_mode": {
    "name": "ipython",
    "version": 3
   },
   "file_extension": ".py",
   "mimetype": "text/x-python",
   "name": "python",
   "nbconvert_exporter": "python",
   "pygments_lexer": "ipython3",
   "version": "3.7.4"
  }
 },
 "nbformat": 4,
 "nbformat_minor": 2
}
