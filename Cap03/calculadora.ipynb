{
 "cells": [
  {
   "cell_type": "code",
   "execution_count": 7,
   "metadata": {},
   "outputs": [
    {
     "name": "stdout",
     "output_type": "stream",
     "text": [
      "Entre com o primeiro valor: 50\n",
      "Entre com o segundo valor: 10\n",
      "Entre com a operação (+, -, / ou *): *\n",
      "Resultado = 500.0\n"
     ]
    }
   ],
   "source": [
    "def calculadora(a, b, c):\n",
    "    \n",
    "    a = float(a)\n",
    "    b = float(b)\n",
    "    \n",
    "    def soma (a, b):\n",
    "        return a+b\n",
    "    \n",
    "    def sub (a, b):\n",
    "        return a-b\n",
    "    \n",
    "    def div (a, b):\n",
    "        return a/b\n",
    "    \n",
    "    def mult (a,b):\n",
    "        return a*b\n",
    "    \n",
    "    if (c == '+'):\n",
    "        return soma(a,b)\n",
    "    elif (c == '-'):\n",
    "        return sub(a,b)\n",
    "    elif (c == '/'):\n",
    "        return div(a,b)\n",
    "    else:\n",
    "        return mult(a,b)\n",
    "    \n",
    "def main():\n",
    "\n",
    "    a = input(\"Entre com o primeiro valor: \")\n",
    "    b = input(\"Entre com o segundo valor: \")\n",
    "    c = input(\"Entre com a operação (+, -, / ou *): \")\n",
    "    \n",
    "    print(\"Resultado = \"+str(calculadora(a,b,c)))\n",
    "\n",
    "main()"
   ]
  },
  {
   "cell_type": "code",
   "execution_count": null,
   "metadata": {},
   "outputs": [],
   "source": []
  }
 ],
 "metadata": {
  "kernelspec": {
   "display_name": "Python 3",
   "language": "python",
   "name": "python3"
  },
  "language_info": {
   "codemirror_mode": {
    "name": "ipython",
    "version": 3
   },
   "file_extension": ".py",
   "mimetype": "text/x-python",
   "name": "python",
   "nbconvert_exporter": "python",
   "pygments_lexer": "ipython3",
   "version": "3.7.3"
  }
 },
 "nbformat": 4,
 "nbformat_minor": 2
}
