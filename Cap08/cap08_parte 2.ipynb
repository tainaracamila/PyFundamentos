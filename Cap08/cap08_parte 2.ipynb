{
 "cells": [
  {
   "cell_type": "markdown",
   "metadata": {},
   "source": [
    "# estatistica"
   ]
  },
  {
   "cell_type": "code",
   "execution_count": 1,
   "metadata": {},
   "outputs": [],
   "source": [
    "import numpy as np"
   ]
  },
  {
   "cell_type": "code",
   "execution_count": 2,
   "metadata": {},
   "outputs": [
    {
     "data": {
      "text/plain": [
       "array([15, 23, 63, 94, 75])"
      ]
     },
     "execution_count": 2,
     "metadata": {},
     "output_type": "execute_result"
    }
   ],
   "source": [
    "a = np.array([15, 23, 63, 94, 75])\n",
    "a"
   ]
  },
  {
   "cell_type": "code",
   "execution_count": 3,
   "metadata": {},
   "outputs": [
    {
     "data": {
      "text/plain": [
       "54.0"
      ]
     },
     "execution_count": 3,
     "metadata": {},
     "output_type": "execute_result"
    }
   ],
   "source": [
    "# calcula a media\n",
    "np.mean(a)"
   ]
  },
  {
   "cell_type": "code",
   "execution_count": 4,
   "metadata": {},
   "outputs": [
    {
     "data": {
      "text/plain": [
       "30.34468652004828"
      ]
     },
     "execution_count": 4,
     "metadata": {},
     "output_type": "execute_result"
    }
   ],
   "source": [
    "# calcula o desvio padrão, ou seja o quanto de variação existe em relação a média esperada\n",
    "# um valor baixo de desvio padrão indica que os valores estao proximos da média\n",
    "# um valor alto de desvio padrão indica que os valores estão mais espalhados\n",
    "# analise exploratoria: serve pra identificar outliers, como normalizar os dados, ets\n",
    "np.std(a)"
   ]
  },
  {
   "cell_type": "code",
   "execution_count": 5,
   "metadata": {},
   "outputs": [
    {
     "data": {
      "text/plain": [
       "920.8"
      ]
     },
     "execution_count": 5,
     "metadata": {},
     "output_type": "execute_result"
    }
   ],
   "source": [
    "# calcula a variancia é uma medida de sua dispensão estatistica, que indica\n",
    "# o quão longe em geral seus valores estão da media\n",
    "\n",
    "#como fazer:\n",
    "# acha a media\n",
    "# diminui cada valor da distribuição pela media e faz o seu quadrado\n",
    "# faz a media dos quadrados da diferença\n",
    "\n",
    "np.var(a)"
   ]
  },
  {
   "cell_type": "code",
   "execution_count": 6,
   "metadata": {},
   "outputs": [
    {
     "data": {
      "text/plain": [
       "array([1, 2, 3, 4, 5, 6, 7, 8, 9])"
      ]
     },
     "execution_count": 6,
     "metadata": {},
     "output_type": "execute_result"
    }
   ],
   "source": [
    "d = np.arange(1,10)\n",
    "d"
   ]
  },
  {
   "cell_type": "code",
   "execution_count": 7,
   "metadata": {},
   "outputs": [
    {
     "data": {
      "text/plain": [
       "45"
      ]
     },
     "execution_count": 7,
     "metadata": {},
     "output_type": "execute_result"
    }
   ],
   "source": [
    "# calcula a soma de todos os valores do array\n",
    "np.sum(d) "
   ]
  },
  {
   "cell_type": "code",
   "execution_count": 9,
   "metadata": {},
   "outputs": [
    {
     "data": {
      "text/plain": [
       "362880"
      ]
     },
     "execution_count": 9,
     "metadata": {},
     "output_type": "execute_result"
    }
   ],
   "source": [
    "# calcula o produto dos elementos\n",
    "np.prod(d)"
   ]
  },
  {
   "cell_type": "code",
   "execution_count": 10,
   "metadata": {},
   "outputs": [
    {
     "data": {
      "text/plain": [
       "array([ 1,  3,  6, 10, 15, 21, 28, 36, 45], dtype=int32)"
      ]
     },
     "execution_count": 10,
     "metadata": {},
     "output_type": "execute_result"
    }
   ],
   "source": [
    "# calcula a soma acumulada \n",
    "np.cumsum(d)"
   ]
  },
  {
   "cell_type": "code",
   "execution_count": 18,
   "metadata": {},
   "outputs": [
    {
     "name": "stdout",
     "output_type": "stream",
     "text": [
      "[[-0.80861614 -0.13545903]\n",
      " [ 0.36930957  0.63477315]\n",
      " [-0.91137401 -1.31672633]\n",
      " [-0.17507608  0.71561899]\n",
      " [-1.15054051 -0.38147775]\n",
      " [-0.6999141   0.50121231]\n",
      " [ 2.85009065 -0.88680211]\n",
      " [ 0.53794596 -0.17978762]\n",
      " [ 0.15993206  1.07958287]\n",
      " [ 0.87209096  0.26668206]\n",
      " [-1.82555857 -0.11877052]\n",
      " [ 0.4319823   0.5818252 ]\n",
      " [-0.76813575  0.45975595]\n",
      " [ 0.4669154   0.21386784]\n",
      " [ 0.38219871  2.27323863]\n",
      " [ 0.97691173 -1.12411665]\n",
      " [-1.32809479  0.77761212]\n",
      " [-1.02604214  0.17516125]\n",
      " [ 0.86720668  0.49174952]\n",
      " [-0.58068604  1.78463795]\n",
      " [ 0.35837115  1.22016705]\n",
      " [-0.46381826  1.49693819]\n",
      " [-1.74265756  0.37386872]\n",
      " [ 0.07081757 -1.99292751]\n",
      " [ 0.68992699 -1.54271065]\n",
      " [-0.26247582  1.24829899]\n",
      " [ 0.44660335 -0.67121708]\n",
      " [-0.19321549 -0.69719559]\n",
      " [-0.20313221 -1.10313136]\n",
      " [ 1.58403541  0.01123807]\n",
      " [ 0.16191794 -0.49617863]\n",
      " [ 0.24606647 -0.50643031]\n",
      " [ 0.54487746  0.51018039]\n",
      " [ 0.96013181 -0.46593656]\n",
      " [ 0.27025159 -0.4683072 ]\n",
      " [ 0.97668102 -1.35867711]\n",
      " [ 0.64426037  0.94353134]\n",
      " [-0.23279099  1.73473121]\n",
      " [ 0.76169675 -0.06874873]\n",
      " [ 0.83610135  0.99149042]\n",
      " [-0.92528451 -0.90424472]\n",
      " [ 0.13044118 -0.56016978]\n",
      " [ 0.08540514 -1.88817412]\n",
      " [-0.14559881 -0.44024269]\n",
      " [ 0.29067221  1.69357485]\n",
      " [ 1.33892306 -0.35747193]\n",
      " [ 0.76529403 -1.02204622]\n",
      " [ 0.18585079 -0.34837673]\n",
      " [-1.13624653  1.6614394 ]\n",
      " [ 2.03316959  0.20953266]\n",
      " [-0.37912398 -1.43325016]\n",
      " [-1.10788103  1.1583941 ]\n",
      " [-0.75788828 -1.27095797]\n",
      " [-0.55232898  0.21630737]\n",
      " [ 0.46369259 -0.75428891]\n",
      " [-0.16561031  0.12831242]\n",
      " [ 0.86331706  0.04804374]\n",
      " [-0.25306027 -2.6103078 ]\n",
      " [-0.83805245  0.97787586]\n",
      " [-0.34807146 -0.02138511]\n",
      " [-0.61857165  0.37259221]\n",
      " [ 1.49828251 -1.21313232]\n",
      " [-0.41844416 -0.87768971]\n",
      " [-1.61101622  0.61002537]\n",
      " [-1.58532273  0.7049977 ]\n",
      " [-1.143483    0.61697648]\n",
      " [ 0.29278835 -0.35194214]\n",
      " [-0.69853875  1.19303724]\n",
      " [ 1.186761    1.75087728]\n",
      " [-1.58261276  0.76962296]\n",
      " [ 0.29232106  0.60901434]\n",
      " [-0.61079092  1.55678514]\n",
      " [ 0.23937919 -1.28688845]\n",
      " [-1.04227404 -0.56480383]\n",
      " [-0.28418538  1.37604322]\n",
      " [ 0.1449504  -1.54302342]\n",
      " [ 0.32293177  0.27038815]\n",
      " [ 0.70423951 -1.73463687]\n",
      " [-0.2384043  -0.21830862]\n",
      " [ 0.97860583 -0.70012191]\n",
      " [ 1.21437374 -1.78326577]\n",
      " [ 1.51192657 -1.21820555]\n",
      " [-0.19652388  0.15613282]\n",
      " [ 0.44573601  0.21638832]\n",
      " [-0.64165442 -1.24226328]\n",
      " [-0.20147146  0.05530236]\n",
      " [-0.05122929  1.28233514]\n",
      " [-1.32071524 -0.0882453 ]\n",
      " [-1.40309944 -1.31662314]\n",
      " [-1.62070684  1.11970593]\n",
      " [-0.90925816  0.90407578]\n",
      " [ 0.61562617 -0.99387207]\n",
      " [-0.74418324  1.62100534]\n",
      " [-0.47453958  1.02590747]\n",
      " [ 0.02659236  0.17492596]\n",
      " [-2.00075595 -0.57805223]\n",
      " [-0.41746953 -0.59891798]\n",
      " [ 1.72585897 -0.77670339]\n",
      " [ 0.23850904  0.86807352]\n",
      " [-0.15852777  2.09367776]]\n",
      "[-0.04893082  0.0171532 ] (2,)\n",
      "-0.015888810286971783\n"
     ]
    }
   ],
   "source": [
    "a = np.random.randn(100,2) #gera numeros aleatorios mas normalizados, contendo 2 elementos\n",
    "print(a)\n",
    "\n",
    "m = a.mean(0) #media separada por primeiro elemento e segundo elemento\n",
    "print(m, m.shape) \n",
    "\n",
    "print(np.mean(a)) #imprime media de tudo\n"
   ]
  },
  {
   "cell_type": "code",
   "execution_count": 24,
   "metadata": {},
   "outputs": [
    {
     "data": {
      "image/png": "[encoded data removed]",
      "text/plain": [
       "<Figure size 432x288 with 1 Axes>"
      ]
     },
     "metadata": {
      "needs_background": "light"
     },
     "output_type": "display_data"
    }
   ],
   "source": [
    "import matplotlib.pyplot as plt\n",
    "%matplotlib inline\n",
    "\n",
    "plt.plot(a[:,0], a[:,1], 'o', markersize = 8, alpha = 0.5)\n",
    "plt.plot(m[0], m[1], 'ro', markersize = 8)\n",
    "plt.show()"
   ]
  },
  {
   "cell_type": "markdown",
   "metadata": {},
   "source": [
    "# outras operações com arrays"
   ]
  },
  {
   "cell_type": "code",
   "execution_count": 28,
   "metadata": {},
   "outputs": [
    {
     "data": {
      "text/plain": [
       "array([[0, 0, 0],\n",
       "       [0, 1, 0],\n",
       "       [0, 0, 2]])"
      ]
     },
     "execution_count": 28,
     "metadata": {},
     "output_type": "execute_result"
    }
   ],
   "source": [
    "a = np.diag(np.arange(3))\n",
    "a"
   ]
  },
  {
   "cell_type": "code",
   "execution_count": 29,
   "metadata": {},
   "outputs": [
    {
     "data": {
      "text/plain": [
       "1"
      ]
     },
     "execution_count": 29,
     "metadata": {},
     "output_type": "execute_result"
    }
   ],
   "source": [
    "a[1,1]"
   ]
  },
  {
   "cell_type": "code",
   "execution_count": 30,
   "metadata": {},
   "outputs": [
    {
     "data": {
      "text/plain": [
       "array([0, 1, 0])"
      ]
     },
     "execution_count": 30,
     "metadata": {},
     "output_type": "execute_result"
    }
   ],
   "source": [
    "a[1]"
   ]
  },
  {
   "cell_type": "code",
   "execution_count": 31,
   "metadata": {},
   "outputs": [
    {
     "data": {
      "text/plain": [
       "array([0, 1, 2, 3, 4, 5, 6, 7, 8, 9])"
      ]
     },
     "execution_count": 31,
     "metadata": {},
     "output_type": "execute_result"
    }
   ],
   "source": [
    "b = np.arange(10)\n",
    "b"
   ]
  },
  {
   "cell_type": "code",
   "execution_count": 32,
   "metadata": {},
   "outputs": [
    {
     "data": {
      "text/plain": [
       "array([2, 5, 8])"
      ]
     },
     "execution_count": 32,
     "metadata": {},
     "output_type": "execute_result"
    }
   ],
   "source": [
    "# inicio, fim, step\n",
    "# imprime os valores de acordo como desejo fatiar\n",
    "b[2:9:3]"
   ]
  },
  {
   "cell_type": "code",
   "execution_count": 33,
   "metadata": {},
   "outputs": [
    {
     "data": {
      "text/plain": [
       "array([ True,  True,  True, False])"
      ]
     },
     "execution_count": 33,
     "metadata": {},
     "output_type": "execute_result"
    }
   ],
   "source": [
    "# comparação \n",
    "a = np.array([1, 2, 3, 4])\n",
    "b = np.array([1, 2, 3, 5])\n",
    "\n",
    "a == b # comparação que avalia elemento a elemento"
   ]
  },
  {
   "cell_type": "code",
   "execution_count": 34,
   "metadata": {},
   "outputs": [
    {
     "data": {
      "text/plain": [
       "False"
      ]
     },
     "execution_count": 34,
     "metadata": {},
     "output_type": "execute_result"
    }
   ],
   "source": [
    "np.array_equal(a, b) # compara se os arrays sao iguais"
   ]
  },
  {
   "cell_type": "code",
   "execution_count": 37,
   "metadata": {},
   "outputs": [
    {
     "data": {
      "text/plain": [
       "1"
      ]
     },
     "execution_count": 37,
     "metadata": {},
     "output_type": "execute_result"
    }
   ],
   "source": [
    "a.min() #imprime o valor minimo"
   ]
  },
  {
   "cell_type": "code",
   "execution_count": 38,
   "metadata": {},
   "outputs": [
    {
     "data": {
      "text/plain": [
       "4"
      ]
     },
     "execution_count": 38,
     "metadata": {},
     "output_type": "execute_result"
    }
   ],
   "source": [
    "a.max() #imprime valor maximo"
   ]
  },
  {
   "cell_type": "code",
   "execution_count": 39,
   "metadata": {},
   "outputs": [
    {
     "data": {
      "text/plain": [
       "array([2.5, 3.5, 4.5])"
      ]
     },
     "execution_count": 39,
     "metadata": {},
     "output_type": "execute_result"
    }
   ],
   "source": [
    "np.array([1, 2, 3]) + 1.5 # adiciona o valor 1.5 a cada valor do array"
   ]
  },
  {
   "cell_type": "code",
   "execution_count": 41,
   "metadata": {},
   "outputs": [
    {
     "data": {
      "text/plain": [
       "array([2., 2., 2., 7.])"
      ]
     },
     "execution_count": 41,
     "metadata": {},
     "output_type": "execute_result"
    }
   ],
   "source": [
    "#around: arredonda os valores \n",
    "\n",
    "a = np.array([1.7 , 2.3, 1.5, 6.8])\n",
    "b = np.around(a)\n",
    "b"
   ]
  },
  {
   "cell_type": "code",
   "execution_count": 71,
   "metadata": {},
   "outputs": [
    {
     "name": "stdout",
     "output_type": "stream",
     "text": [
      "[[1 2 3]\n",
      " [4 5 6]]\n"
     ]
    },
    {
     "data": {
      "text/plain": [
       "array([1, 2, 3, 4, 5, 6])"
      ]
     },
     "execution_count": 71,
     "metadata": {},
     "output_type": "execute_result"
    }
   ],
   "source": [
    "# copia um array \n",
    "# caso seja uma matriz, ele irá transformar a matriz em array\n",
    "\n",
    "b = np.array([[1,2,3],[4,5,6]])\n",
    "print(b)\n",
    "\n",
    "c = b.flatten() \n",
    "c"
   ]
  },
  {
   "cell_type": "code",
   "execution_count": 72,
   "metadata": {},
   "outputs": [
    {
     "data": {
      "text/plain": [
       "array([1, 4, 2, 5, 3, 6])"
      ]
     },
     "execution_count": 72,
     "metadata": {},
     "output_type": "execute_result"
    }
   ],
   "source": [
    "e = b.flatten('F') #as colunas vão virando linhas\n",
    "e"
   ]
  },
  {
   "cell_type": "code",
   "execution_count": 73,
   "metadata": {},
   "outputs": [
    {
     "data": {
      "text/plain": [
       "array([[1],\n",
       "       [2],\n",
       "       [3],\n",
       "       [4],\n",
       "       [5],\n",
       "       [6]])"
      ]
     },
     "execution_count": 73,
     "metadata": {},
     "output_type": "execute_result"
    }
   ],
   "source": [
    "# adicionar uma dimensão a um array\n",
    "d = c[:, np.newaxis] \n",
    "d"
   ]
  },
  {
   "cell_type": "code",
   "execution_count": 74,
   "metadata": {},
   "outputs": [
    {
     "data": {
      "text/plain": [
       "2"
      ]
     },
     "execution_count": 74,
     "metadata": {},
     "output_type": "execute_result"
    }
   ],
   "source": [
    "d.ndim"
   ]
  },
  {
   "cell_type": "code",
   "execution_count": 75,
   "metadata": {},
   "outputs": [
    {
     "data": {
      "text/plain": [
       "(6, 1)"
      ]
     },
     "execution_count": 75,
     "metadata": {},
     "output_type": "execute_result"
    }
   ],
   "source": [
    "d.shape"
   ]
  },
  {
   "cell_type": "code",
   "execution_count": 76,
   "metadata": {},
   "outputs": [],
   "source": [
    "d = np.array([1,2,3,4])"
   ]
  },
  {
   "cell_type": "code",
   "execution_count": 77,
   "metadata": {},
   "outputs": [
    {
     "data": {
      "text/plain": [
       "array([1, 1, 1, 2, 2, 2, 3, 3, 3, 4, 4, 4])"
      ]
     },
     "execution_count": 77,
     "metadata": {},
     "output_type": "execute_result"
    }
   ],
   "source": [
    "# repete os valores do array\n",
    "np.repeat(d,3)"
   ]
  },
  {
   "cell_type": "code",
   "execution_count": 78,
   "metadata": {},
   "outputs": [
    {
     "data": {
      "text/plain": [
       "array([1, 2, 3, 4, 1, 2, 3, 4, 1, 2, 3, 4])"
      ]
     },
     "execution_count": 78,
     "metadata": {},
     "output_type": "execute_result"
    }
   ],
   "source": [
    "# repete os valores de um array\n",
    "np.tile(d,3)"
   ]
  },
  {
   "cell_type": "code",
   "execution_count": 79,
   "metadata": {},
   "outputs": [
    {
     "data": {
      "text/plain": [
       "array([1, 2, 3, 4, 5, 6])"
      ]
     },
     "execution_count": 79,
     "metadata": {},
     "output_type": "execute_result"
    }
   ],
   "source": [
    "# concatenar 2 arrays \n",
    "a = np.array([1,2,3])\n",
    "b = np.array([4,5,6])\n",
    "\n",
    "np.concatenate((a,b))"
   ]
  },
  {
   "cell_type": "code",
   "execution_count": 81,
   "metadata": {},
   "outputs": [
    {
     "data": {
      "text/plain": [
       "array([[1, 2, 3],\n",
       "       [4, 5, 6]])"
      ]
     },
     "execution_count": 81,
     "metadata": {},
     "output_type": "execute_result"
    }
   ],
   "source": [
    "# copiar um array/matriz \n",
    "b = np.array([[1,2,3],[4,5,6]])\n",
    "\n",
    "v = np.copy(b)\n",
    "v"
   ]
  },
  {
   "cell_type": "code",
   "execution_count": null,
   "metadata": {},
   "outputs": [],
   "source": []
  }
 ],
 "metadata": {
  "kernelspec": {
   "display_name": "Python 3",
   "language": "python",
   "name": "python3"
  },
  "language_info": {
   "codemirror_mode": {
    "name": "ipython",
    "version": 3
   },
   "file_extension": ".py",
   "mimetype": "text/x-python",
   "name": "python",
   "nbconvert_exporter": "python",
   "pygments_lexer": "ipython3",
   "version": "3.7.4"
  }
 },
 "nbformat": 4,
 "nbformat_minor": 2
}
